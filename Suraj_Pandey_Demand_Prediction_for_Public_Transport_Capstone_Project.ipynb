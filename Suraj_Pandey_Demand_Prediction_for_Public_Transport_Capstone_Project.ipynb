{
  "nbformat": 4,
  "nbformat_minor": 0,
  "metadata": {
    "kernelspec": {
      "display_name": "Python 3",
      "language": "python",
      "name": "python3"
    },
    "language_info": {
      "codemirror_mode": {
        "name": "ipython",
        "version": 3
      },
      "file_extension": ".py",
      "mimetype": "text/x-python",
      "name": "python",
      "nbconvert_exporter": "python",
      "pygments_lexer": "ipython3",
      "version": "3.6.6"
    },
    "colab": {
      "name": "Suraj Pandey- Demand Prediction for Public Transport - Capstone Project.ipynb",
      "provenance": [],
      "collapsed_sections": [],
      "include_colab_link": true
    }
  },
  "cells": [
    {
      "cell_type": "markdown",
      "metadata": {
        "id": "view-in-github",
        "colab_type": "text"
      },
      "source": [
        "<a href=\"https://colab.research.google.com/github/surajpandey11/capstone_project2/blob/main/Suraj_Pandey_Demand_Prediction_for_Public_Transport_Capstone_Project.ipynb\" target=\"_parent\"><img src=\"https://colab.research.google.com/assets/colab-badge.svg\" alt=\"Open In Colab\"/></a>"
      ]
    },
    {
      "cell_type": "markdown",
      "metadata": {
        "id": "tOGC-qoyhJeX"
      },
      "source": [
        "# <b><u> Project Title : Traffic Jam: Predicting People's Movement into Nairobi </u></b>"
      ]
    },
    {
      "cell_type": "markdown",
      "metadata": {
        "id": "DolYBAZ97W6D"
      },
      "source": [
        "# New section"
      ]
    },
    {
      "cell_type": "markdown",
      "metadata": {
        "id": "LOZUP3xY7Xcd"
      },
      "source": [
        "# New section"
      ]
    },
    {
      "cell_type": "code",
      "metadata": {
        "colab": {
          "base_uri": "https://localhost:8080/"
        },
        "id": "IaMoG05P7a8H",
        "outputId": "50e0003e-a3f7-456c-e31b-801b00f7df9f"
      },
      "source": [
        "from google.colab import drive\n",
        "drive.mount('/content/drive')"
      ],
      "execution_count": 2,
      "outputs": [
        {
          "output_type": "stream",
          "text": [
            "Mounted at /content/drive\n"
          ],
          "name": "stdout"
        }
      ]
    },
    {
      "cell_type": "markdown",
      "metadata": {
        "id": "Y06xIdG26kRF"
      },
      "source": [
        "## <b> Problem Description </b>\n",
        "\n",
        "### This challenge asks you to build a model that predicts the number of seats that Mobiticket can expect to sell for each ride, i.e. for a specific route on a specific date and time. There are 14 routes in this dataset. All of the routes end in Nairobi and originate in towns to the North-West of Nairobi towards Lake Victoria.\n",
        "\n",
        "\n",
        "### The towns from which these routes originate are:\n",
        "\n",
        "* Awendo\n",
        "* Homa Bay\n",
        "* Kehancha\n",
        "* Kendu Bay\n",
        "* Keroka\n",
        "* Keumbu\n",
        "* Kijauri\n",
        "* Kisii\n",
        "* Mbita\n",
        "* Migori\n",
        "* Ndhiwa\n",
        "* Nyachenge\n",
        "* Oyugis\n",
        "* Rodi\n",
        "* Rongo\n",
        "* Sirare\n",
        "* Sori\n",
        "\n",
        "### The routes from these 14 origins to the first stop in the outskirts of Nairobi takes approximately 8 to 9 hours from time of departure. From the first stop in the outskirts of Nairobi into the main bus terminal, where most passengers get off, in Central Business District, takes another 2 to 3 hours depending on traffic.\n",
        "\n",
        "### The three stops that all these routes make in Nairobi (in order) are:\n",
        "\n",
        "1. Kawangware: the first stop in the outskirts of Nairobi\n",
        "2. Westlands\n",
        "3. Afya Centre: the main bus terminal where most passengers disembark\n",
        "\n",
        "### All of these points are mapped [here](https://www.google.com/maps/d/viewer?mid=1Ef2pFdP8keVHHid8bwju2raoRvjOGagN&ll=-0.8281897101491997%2C35.51706279999996&z=8).\n",
        "\n",
        "### Passengers of these bus (or shuttle) rides are affected by Nairobi traffic not only during their ride into the city, but from there they must continue their journey to their final destination in Nairobi wherever that may be. Traffic can act as a deterrent for those who have the option to avoid buses that arrive in Nairobi during peak traffic hours. On the other hand, traffic may be an indication for people’s movement patterns, reflecting business hours, cultural events, political events, and holidays."
      ]
    },
    {
      "cell_type": "markdown",
      "metadata": {
        "id": "AlLxAtlziMbP"
      },
      "source": [
        "## <b> Data Description </b>\r\n",
        "\r\n",
        "### <b>Nairobi Transport Data.csv (zipped)</b> is the dataset of tickets purchased from Mobiticket for the 14 routes from “up country” into Nairobi between 17 October 2017 and 20 April 2018. This dataset includes the variables: ride_id, seat_number, payment_method, payment_receipt, travel_date, travel_time, travel_from, travel_to, car_type, max_capacity.\r\n",
        "\r\n",
        "\r\n",
        "### Uber Movement traffic data can be accessed [here](https://movement.uber.com). Data is available for Nairobi through June 2018. Uber Movement provided historic hourly travel time between any two points in Nairobi. Any tables that are extracted from the Uber Movement platform can be used in your model.\r\n",
        "\r\n",
        "### Variables description:\r\n",
        "\r\n",
        "* #### ride_id: unique ID of a vehicle on a specific route on a specific day and time.\r\n",
        "* #### seat_number: seat assigned to ticket\r\n",
        "* #### payment_method: method used by customer to purchase ticket from Mobiticket (cash or Mpesa)\r\n",
        "* #### payment_receipt: unique id number for ticket purchased from Mobiticket\r\n",
        "* #### travel_date: date of ride departure. (MM/DD/YYYY)\r\n",
        "* #### travel_time: scheduled departure time of ride. Rides generally depart on time. (hh:mm)\r\n",
        "* #### travel_from: town from which ride originated\r\n",
        "* #### travel_to: destination of ride. All rides are to Nairobi.\r\n",
        "* #### car_type: vehicle type (shuttle or bus)\r\n",
        "* #### max_capacity: number of seats on the vehicle"
      ]
    },
    {
      "cell_type": "code",
      "metadata": {
        "id": "fcBAU19972A0"
      },
      "source": [
        "import pandas as pd\r\n",
        "import seaborn as sns\r\n",
        "import numpy as np\r\n"
      ],
      "execution_count": 31,
      "outputs": []
    },
    {
      "cell_type": "code",
      "metadata": {
        "id": "dByMsuzT8Tnw"
      },
      "source": [
        "transport_df=pd.read_csv('/content/drive/MyDrive/AlmaBetter/Module 4/Week 1/Day 1/train_revised.csv')"
      ],
      "execution_count": 4,
      "outputs": []
    },
    {
      "cell_type": "code",
      "metadata": {
        "colab": {
          "base_uri": "https://localhost:8080/",
          "height": 204
        },
        "id": "9c3Xf_zKA6g1",
        "outputId": "ce44a045-c941-4137-84ea-7663e471774d"
      },
      "source": [
        "transport_df.head()"
      ],
      "execution_count": 5,
      "outputs": [
        {
          "output_type": "execute_result",
          "data": {
            "text/html": [
              "<div>\n",
              "<style scoped>\n",
              "    .dataframe tbody tr th:only-of-type {\n",
              "        vertical-align: middle;\n",
              "    }\n",
              "\n",
              "    .dataframe tbody tr th {\n",
              "        vertical-align: top;\n",
              "    }\n",
              "\n",
              "    .dataframe thead th {\n",
              "        text-align: right;\n",
              "    }\n",
              "</style>\n",
              "<table border=\"1\" class=\"dataframe\">\n",
              "  <thead>\n",
              "    <tr style=\"text-align: right;\">\n",
              "      <th></th>\n",
              "      <th>ride_id</th>\n",
              "      <th>seat_number</th>\n",
              "      <th>payment_method</th>\n",
              "      <th>payment_receipt</th>\n",
              "      <th>travel_date</th>\n",
              "      <th>travel_time</th>\n",
              "      <th>travel_from</th>\n",
              "      <th>travel_to</th>\n",
              "      <th>car_type</th>\n",
              "      <th>max_capacity</th>\n",
              "    </tr>\n",
              "  </thead>\n",
              "  <tbody>\n",
              "    <tr>\n",
              "      <th>0</th>\n",
              "      <td>1442</td>\n",
              "      <td>15A</td>\n",
              "      <td>Mpesa</td>\n",
              "      <td>UZUEHCBUSO</td>\n",
              "      <td>17-10-17</td>\n",
              "      <td>7:15</td>\n",
              "      <td>Migori</td>\n",
              "      <td>Nairobi</td>\n",
              "      <td>Bus</td>\n",
              "      <td>49</td>\n",
              "    </tr>\n",
              "    <tr>\n",
              "      <th>1</th>\n",
              "      <td>5437</td>\n",
              "      <td>14A</td>\n",
              "      <td>Mpesa</td>\n",
              "      <td>TIHLBUSGTE</td>\n",
              "      <td>19-11-17</td>\n",
              "      <td>7:12</td>\n",
              "      <td>Migori</td>\n",
              "      <td>Nairobi</td>\n",
              "      <td>Bus</td>\n",
              "      <td>49</td>\n",
              "    </tr>\n",
              "    <tr>\n",
              "      <th>2</th>\n",
              "      <td>5710</td>\n",
              "      <td>8B</td>\n",
              "      <td>Mpesa</td>\n",
              "      <td>EQX8Q5G19O</td>\n",
              "      <td>26-11-17</td>\n",
              "      <td>7:05</td>\n",
              "      <td>Keroka</td>\n",
              "      <td>Nairobi</td>\n",
              "      <td>Bus</td>\n",
              "      <td>49</td>\n",
              "    </tr>\n",
              "    <tr>\n",
              "      <th>3</th>\n",
              "      <td>5777</td>\n",
              "      <td>19A</td>\n",
              "      <td>Mpesa</td>\n",
              "      <td>SGP18CL0ME</td>\n",
              "      <td>27-11-17</td>\n",
              "      <td>7:10</td>\n",
              "      <td>Homa Bay</td>\n",
              "      <td>Nairobi</td>\n",
              "      <td>Bus</td>\n",
              "      <td>49</td>\n",
              "    </tr>\n",
              "    <tr>\n",
              "      <th>4</th>\n",
              "      <td>5778</td>\n",
              "      <td>11A</td>\n",
              "      <td>Mpesa</td>\n",
              "      <td>BM97HFRGL9</td>\n",
              "      <td>27-11-17</td>\n",
              "      <td>7:12</td>\n",
              "      <td>Migori</td>\n",
              "      <td>Nairobi</td>\n",
              "      <td>Bus</td>\n",
              "      <td>49</td>\n",
              "    </tr>\n",
              "  </tbody>\n",
              "</table>\n",
              "</div>"
            ],
            "text/plain": [
              "   ride_id seat_number payment_method  ... travel_to car_type max_capacity\n",
              "0     1442         15A          Mpesa  ...   Nairobi      Bus           49\n",
              "1     5437         14A          Mpesa  ...   Nairobi      Bus           49\n",
              "2     5710          8B          Mpesa  ...   Nairobi      Bus           49\n",
              "3     5777         19A          Mpesa  ...   Nairobi      Bus           49\n",
              "4     5778         11A          Mpesa  ...   Nairobi      Bus           49\n",
              "\n",
              "[5 rows x 10 columns]"
            ]
          },
          "metadata": {
            "tags": []
          },
          "execution_count": 5
        }
      ]
    },
    {
      "cell_type": "code",
      "metadata": {
        "colab": {
          "base_uri": "https://localhost:8080/",
          "height": 419
        },
        "id": "gnzGU5KzFmS9",
        "outputId": "e5ce1eb1-38fb-41fa-f95c-b7b4da4b6a72"
      },
      "source": [
        "transport_df[transport_df['max_capacity']==11]\r\n"
      ],
      "execution_count": 6,
      "outputs": [
        {
          "output_type": "execute_result",
          "data": {
            "text/html": [
              "<div>\n",
              "<style scoped>\n",
              "    .dataframe tbody tr th:only-of-type {\n",
              "        vertical-align: middle;\n",
              "    }\n",
              "\n",
              "    .dataframe tbody tr th {\n",
              "        vertical-align: top;\n",
              "    }\n",
              "\n",
              "    .dataframe thead th {\n",
              "        text-align: right;\n",
              "    }\n",
              "</style>\n",
              "<table border=\"1\" class=\"dataframe\">\n",
              "  <thead>\n",
              "    <tr style=\"text-align: right;\">\n",
              "      <th></th>\n",
              "      <th>ride_id</th>\n",
              "      <th>seat_number</th>\n",
              "      <th>payment_method</th>\n",
              "      <th>payment_receipt</th>\n",
              "      <th>travel_date</th>\n",
              "      <th>travel_time</th>\n",
              "      <th>travel_from</th>\n",
              "      <th>travel_to</th>\n",
              "      <th>car_type</th>\n",
              "      <th>max_capacity</th>\n",
              "    </tr>\n",
              "  </thead>\n",
              "  <tbody>\n",
              "    <tr>\n",
              "      <th>12</th>\n",
              "      <td>5784</td>\n",
              "      <td>1X</td>\n",
              "      <td>Mpesa</td>\n",
              "      <td>3OPU23FHRB</td>\n",
              "      <td>20-04-18</td>\n",
              "      <td>5:10</td>\n",
              "      <td>Kisii</td>\n",
              "      <td>Nairobi</td>\n",
              "      <td>shuttle</td>\n",
              "      <td>11</td>\n",
              "    </tr>\n",
              "    <tr>\n",
              "      <th>13</th>\n",
              "      <td>5789</td>\n",
              "      <td>1X</td>\n",
              "      <td>Mpesa</td>\n",
              "      <td>BPRX4UMFFN</td>\n",
              "      <td>20-04-18</td>\n",
              "      <td>9:50</td>\n",
              "      <td>Kisii</td>\n",
              "      <td>Nairobi</td>\n",
              "      <td>shuttle</td>\n",
              "      <td>11</td>\n",
              "    </tr>\n",
              "    <tr>\n",
              "      <th>16</th>\n",
              "      <td>5791</td>\n",
              "      <td>1</td>\n",
              "      <td>Mpesa</td>\n",
              "      <td>HGQURN0SZS</td>\n",
              "      <td>20-04-18</td>\n",
              "      <td>6:00</td>\n",
              "      <td>Kisii</td>\n",
              "      <td>Nairobi</td>\n",
              "      <td>shuttle</td>\n",
              "      <td>11</td>\n",
              "    </tr>\n",
              "    <tr>\n",
              "      <th>17</th>\n",
              "      <td>5792</td>\n",
              "      <td>1</td>\n",
              "      <td>Mpesa</td>\n",
              "      <td>8D9V8HK2FC</td>\n",
              "      <td>20-04-18</td>\n",
              "      <td>5:50</td>\n",
              "      <td>Kisii</td>\n",
              "      <td>Nairobi</td>\n",
              "      <td>shuttle</td>\n",
              "      <td>11</td>\n",
              "    </tr>\n",
              "    <tr>\n",
              "      <th>18</th>\n",
              "      <td>5793</td>\n",
              "      <td>1</td>\n",
              "      <td>Mpesa</td>\n",
              "      <td>TTZQDYZHAB</td>\n",
              "      <td>20-04-18</td>\n",
              "      <td>10:58</td>\n",
              "      <td>Kisii</td>\n",
              "      <td>Nairobi</td>\n",
              "      <td>shuttle</td>\n",
              "      <td>11</td>\n",
              "    </tr>\n",
              "    <tr>\n",
              "      <th>...</th>\n",
              "      <td>...</td>\n",
              "      <td>...</td>\n",
              "      <td>...</td>\n",
              "      <td>...</td>\n",
              "      <td>...</td>\n",
              "      <td>...</td>\n",
              "      <td>...</td>\n",
              "      <td>...</td>\n",
              "      <td>...</td>\n",
              "      <td>...</td>\n",
              "    </tr>\n",
              "    <tr>\n",
              "      <th>51107</th>\n",
              "      <td>13761</td>\n",
              "      <td>2</td>\n",
              "      <td>Mpesa</td>\n",
              "      <td>VCDOGNVTG2</td>\n",
              "      <td>27-11-17</td>\n",
              "      <td>5:00</td>\n",
              "      <td>Kisii</td>\n",
              "      <td>Nairobi</td>\n",
              "      <td>shuttle</td>\n",
              "      <td>11</td>\n",
              "    </tr>\n",
              "    <tr>\n",
              "      <th>51156</th>\n",
              "      <td>13769</td>\n",
              "      <td>5</td>\n",
              "      <td>Mpesa</td>\n",
              "      <td>PU4LHLHZVC</td>\n",
              "      <td>19-04-18</td>\n",
              "      <td>6:20</td>\n",
              "      <td>Kijauri</td>\n",
              "      <td>Nairobi</td>\n",
              "      <td>shuttle</td>\n",
              "      <td>11</td>\n",
              "    </tr>\n",
              "    <tr>\n",
              "      <th>51195</th>\n",
              "      <td>13761</td>\n",
              "      <td>1</td>\n",
              "      <td>Mpesa</td>\n",
              "      <td>AQGYCPOGLQ</td>\n",
              "      <td>27-11-17</td>\n",
              "      <td>5:00</td>\n",
              "      <td>Kisii</td>\n",
              "      <td>Nairobi</td>\n",
              "      <td>shuttle</td>\n",
              "      <td>11</td>\n",
              "    </tr>\n",
              "    <tr>\n",
              "      <th>51468</th>\n",
              "      <td>13804</td>\n",
              "      <td>5</td>\n",
              "      <td>Mpesa</td>\n",
              "      <td>D8LAUAHLFB</td>\n",
              "      <td>20-04-18</td>\n",
              "      <td>7:50</td>\n",
              "      <td>Kijauri</td>\n",
              "      <td>Nairobi</td>\n",
              "      <td>shuttle</td>\n",
              "      <td>11</td>\n",
              "    </tr>\n",
              "    <tr>\n",
              "      <th>51469</th>\n",
              "      <td>13805</td>\n",
              "      <td>4</td>\n",
              "      <td>Mpesa</td>\n",
              "      <td>BFOBL0JHHT</td>\n",
              "      <td>20-04-18</td>\n",
              "      <td>6:30</td>\n",
              "      <td>Kijauri</td>\n",
              "      <td>Nairobi</td>\n",
              "      <td>shuttle</td>\n",
              "      <td>11</td>\n",
              "    </tr>\n",
              "  </tbody>\n",
              "</table>\n",
              "<p>19660 rows × 10 columns</p>\n",
              "</div>"
            ],
            "text/plain": [
              "       ride_id seat_number payment_method  ... travel_to car_type max_capacity\n",
              "12        5784          1X          Mpesa  ...   Nairobi  shuttle           11\n",
              "13        5789          1X          Mpesa  ...   Nairobi  shuttle           11\n",
              "16        5791           1          Mpesa  ...   Nairobi  shuttle           11\n",
              "17        5792           1          Mpesa  ...   Nairobi  shuttle           11\n",
              "18        5793           1          Mpesa  ...   Nairobi  shuttle           11\n",
              "...        ...         ...            ...  ...       ...      ...          ...\n",
              "51107    13761           2          Mpesa  ...   Nairobi  shuttle           11\n",
              "51156    13769           5          Mpesa  ...   Nairobi  shuttle           11\n",
              "51195    13761           1          Mpesa  ...   Nairobi  shuttle           11\n",
              "51468    13804           5          Mpesa  ...   Nairobi  shuttle           11\n",
              "51469    13805           4          Mpesa  ...   Nairobi  shuttle           11\n",
              "\n",
              "[19660 rows x 10 columns]"
            ]
          },
          "metadata": {
            "tags": []
          },
          "execution_count": 6
        }
      ]
    },
    {
      "cell_type": "code",
      "metadata": {
        "colab": {
          "base_uri": "https://localhost:8080/"
        },
        "id": "7wnGuq3bH8Rd",
        "outputId": "0f0625b3-892b-40eb-e207-e152b0e2aa70"
      },
      "source": [
        "transport_df['payment_method'].value_counts()"
      ],
      "execution_count": 7,
      "outputs": [
        {
          "output_type": "execute_result",
          "data": {
            "text/plain": [
              "Mpesa    51532\n",
              "Cash       113\n",
              "Name: payment_method, dtype: int64"
            ]
          },
          "metadata": {
            "tags": []
          },
          "execution_count": 7
        }
      ]
    },
    {
      "cell_type": "code",
      "metadata": {
        "id": "3SGfGAHOIK8l"
      },
      "source": [
        ""
      ],
      "execution_count": null,
      "outputs": []
    },
    {
      "cell_type": "code",
      "metadata": {
        "colab": {
          "base_uri": "https://localhost:8080/"
        },
        "id": "YsPJOZUuH2Si",
        "outputId": "effef880-201a-4e8b-86f0-d37a56b3dbf4"
      },
      "source": [
        "transport_df['car_type'].value_counts()"
      ],
      "execution_count": 8,
      "outputs": [
        {
          "output_type": "execute_result",
          "data": {
            "text/plain": [
              "Bus        31985\n",
              "shuttle    19660\n",
              "Name: car_type, dtype: int64"
            ]
          },
          "metadata": {
            "tags": []
          },
          "execution_count": 8
        }
      ]
    },
    {
      "cell_type": "code",
      "metadata": {
        "id": "gIGbvVVdLsQQ"
      },
      "source": [
        "import matplotlib.pyplot as plt\r\n"
      ],
      "execution_count": 9,
      "outputs": []
    },
    {
      "cell_type": "code",
      "metadata": {
        "colab": {
          "base_uri": "https://localhost:8080/",
          "height": 949
        },
        "id": "y9LkTCAfLHvc",
        "outputId": "63752d65-ad7a-41ed-abd6-c1c99be8826c"
      },
      "source": [
        "plt.figure(figsize=(20,15))\r\n",
        "sns.countplot(transport_df['travel_date'])\r\n"
      ],
      "execution_count": 10,
      "outputs": [
        {
          "output_type": "stream",
          "text": [
            "/usr/local/lib/python3.6/dist-packages/seaborn/_decorators.py:43: FutureWarning: Pass the following variable as a keyword arg: x. From version 0.12, the only valid positional argument will be `data`, and passing other arguments without an explicit keyword will result in an error or misinterpretation.\n",
            "  FutureWarning\n"
          ],
          "name": "stderr"
        },
        {
          "output_type": "execute_result",
          "data": {
            "text/plain": [
              "<matplotlib.axes._subplots.AxesSubplot at 0x7f568ef6e1d0>"
            ]
          },
          "metadata": {
            "tags": []
          },
          "execution_count": 10
        },
        {
          "output_type": "display_data",
          "data": {
            "image/png": "[encoded data removed]",
            "text/plain": [
              "<Figure size 1440x1080 with 1 Axes>"
            ]
          },
          "metadata": {
            "tags": [],
            "needs_background": "light"
          }
        }
      ]
    },
    {
      "cell_type": "code",
      "metadata": {
        "colab": {
          "base_uri": "https://localhost:8080/"
        },
        "id": "x3mtRglje1VT",
        "outputId": "f57cebc6-a265-4819-8253-a29174f1a576"
      },
      "source": [
        "transport_df['travel_from'].value_counts()"
      ],
      "execution_count": 11,
      "outputs": [
        {
          "output_type": "execute_result",
          "data": {
            "text/plain": [
              "Kisii        22607\n",
              "Migori        7027\n",
              "Homa Bay      6304\n",
              "Sirare        4449\n",
              "Rongo         3928\n",
              "Kehancha      1909\n",
              "Awendo        1788\n",
              "Kijauri       1031\n",
              "Keroka         988\n",
              "Nyachenge      512\n",
              "Rodi           405\n",
              "Mbita          378\n",
              "Ndhiwa         236\n",
              "Sori            55\n",
              "Keumbu          22\n",
              "Oyugis           5\n",
              "Kendu Bay        1\n",
              "Name: travel_from, dtype: int64"
            ]
          },
          "metadata": {
            "tags": []
          },
          "execution_count": 11
        }
      ]
    },
    {
      "cell_type": "code",
      "metadata": {
        "colab": {
          "base_uri": "https://localhost:8080/"
        },
        "id": "oT-WcWXRfU29",
        "outputId": "7bcad096-10c4-4df6-ccca-4647691ccc7d"
      },
      "source": [
        "transport_df['travel_date'].value_counts()"
      ],
      "execution_count": 12,
      "outputs": [
        {
          "output_type": "execute_result",
          "data": {
            "text/plain": [
              "10-12-17    856\n",
              "14-12-17    797\n",
              "13-12-17    730\n",
              "07-12-17    723\n",
              "08-12-17    722\n",
              "           ... \n",
              "25-12-17      8\n",
              "17-10-17      1\n",
              "19-11-17      1\n",
              "14-11-17      1\n",
              "26-11-17      1\n",
              "Name: travel_date, Length: 149, dtype: int64"
            ]
          },
          "metadata": {
            "tags": []
          },
          "execution_count": 12
        }
      ]
    },
    {
      "cell_type": "code",
      "metadata": {
        "id": "w9fVktkXlvHm"
      },
      "source": [
        "pd.set_option('display.max_rows', 20)"
      ],
      "execution_count": 17,
      "outputs": []
    },
    {
      "cell_type": "code",
      "metadata": {
        "colab": {
          "base_uri": "https://localhost:8080/"
        },
        "id": "uAi1G5Pmkm1I",
        "outputId": "5c9561c0-28fa-4833-f75f-1b730a182298"
      },
      "source": [
        "transport_df['ride_id'].value_counts()"
      ],
      "execution_count": 18,
      "outputs": [
        {
          "output_type": "execute_result",
          "data": {
            "text/plain": [
              "8454     50\n",
              "8090     49\n",
              "10834    49\n",
              "11382    49\n",
              "13211    49\n",
              "         ..\n",
              "5804      1\n",
              "9834      1\n",
              "9738      1\n",
              "11755     1\n",
              "6147      1\n",
              "Name: ride_id, Length: 6249, dtype: int64"
            ]
          },
          "metadata": {
            "tags": []
          },
          "execution_count": 18
        }
      ]
    },
    {
      "cell_type": "code",
      "metadata": {
        "colab": {
          "base_uri": "https://localhost:8080/",
          "height": 419
        },
        "id": "tpgZjyQ8mD_-",
        "outputId": "fdd0c760-a7bf-4e8b-e90d-6ed1493565e1"
      },
      "source": [
        "transport_df[transport_df['ride_id']==8454]   "
      ],
      "execution_count": 19,
      "outputs": [
        {
          "output_type": "execute_result",
          "data": {
            "text/html": [
              "<div>\n",
              "<style scoped>\n",
              "    .dataframe tbody tr th:only-of-type {\n",
              "        vertical-align: middle;\n",
              "    }\n",
              "\n",
              "    .dataframe tbody tr th {\n",
              "        vertical-align: top;\n",
              "    }\n",
              "\n",
              "    .dataframe thead th {\n",
              "        text-align: right;\n",
              "    }\n",
              "</style>\n",
              "<table border=\"1\" class=\"dataframe\">\n",
              "  <thead>\n",
              "    <tr style=\"text-align: right;\">\n",
              "      <th></th>\n",
              "      <th>ride_id</th>\n",
              "      <th>seat_number</th>\n",
              "      <th>payment_method</th>\n",
              "      <th>payment_receipt</th>\n",
              "      <th>travel_date</th>\n",
              "      <th>travel_time</th>\n",
              "      <th>travel_from</th>\n",
              "      <th>travel_to</th>\n",
              "      <th>car_type</th>\n",
              "      <th>max_capacity</th>\n",
              "    </tr>\n",
              "  </thead>\n",
              "  <tbody>\n",
              "    <tr>\n",
              "      <th>14020</th>\n",
              "      <td>8454</td>\n",
              "      <td>18A</td>\n",
              "      <td>Mpesa</td>\n",
              "      <td>RPOXVAJVME</td>\n",
              "      <td>09-01-18</td>\n",
              "      <td>7:00</td>\n",
              "      <td>Sirare</td>\n",
              "      <td>Nairobi</td>\n",
              "      <td>Bus</td>\n",
              "      <td>49</td>\n",
              "    </tr>\n",
              "    <tr>\n",
              "      <th>14021</th>\n",
              "      <td>8454</td>\n",
              "      <td>17A</td>\n",
              "      <td>Mpesa</td>\n",
              "      <td>MLT0APU7IV</td>\n",
              "      <td>09-01-18</td>\n",
              "      <td>7:00</td>\n",
              "      <td>Sirare</td>\n",
              "      <td>Nairobi</td>\n",
              "      <td>Bus</td>\n",
              "      <td>49</td>\n",
              "    </tr>\n",
              "    <tr>\n",
              "      <th>14022</th>\n",
              "      <td>8454</td>\n",
              "      <td>12B</td>\n",
              "      <td>Mpesa</td>\n",
              "      <td>VMWIO5SZRU</td>\n",
              "      <td>09-01-18</td>\n",
              "      <td>7:00</td>\n",
              "      <td>Sirare</td>\n",
              "      <td>Nairobi</td>\n",
              "      <td>Bus</td>\n",
              "      <td>49</td>\n",
              "    </tr>\n",
              "    <tr>\n",
              "      <th>14023</th>\n",
              "      <td>8454</td>\n",
              "      <td>12A</td>\n",
              "      <td>Mpesa</td>\n",
              "      <td>VYZXWTUEAX</td>\n",
              "      <td>09-01-18</td>\n",
              "      <td>7:00</td>\n",
              "      <td>Sirare</td>\n",
              "      <td>Nairobi</td>\n",
              "      <td>Bus</td>\n",
              "      <td>49</td>\n",
              "    </tr>\n",
              "    <tr>\n",
              "      <th>14026</th>\n",
              "      <td>8454</td>\n",
              "      <td>10A</td>\n",
              "      <td>Mpesa</td>\n",
              "      <td>LJVXBMLNW6</td>\n",
              "      <td>09-01-18</td>\n",
              "      <td>7:00</td>\n",
              "      <td>Sirare</td>\n",
              "      <td>Nairobi</td>\n",
              "      <td>Bus</td>\n",
              "      <td>49</td>\n",
              "    </tr>\n",
              "    <tr>\n",
              "      <th>...</th>\n",
              "      <td>...</td>\n",
              "      <td>...</td>\n",
              "      <td>...</td>\n",
              "      <td>...</td>\n",
              "      <td>...</td>\n",
              "      <td>...</td>\n",
              "      <td>...</td>\n",
              "      <td>...</td>\n",
              "      <td>...</td>\n",
              "      <td>...</td>\n",
              "    </tr>\n",
              "    <tr>\n",
              "      <th>14082</th>\n",
              "      <td>8454</td>\n",
              "      <td>23B</td>\n",
              "      <td>Mpesa</td>\n",
              "      <td>EASA6CO68V</td>\n",
              "      <td>09-01-18</td>\n",
              "      <td>7:00</td>\n",
              "      <td>Sirare</td>\n",
              "      <td>Nairobi</td>\n",
              "      <td>Bus</td>\n",
              "      <td>49</td>\n",
              "    </tr>\n",
              "    <tr>\n",
              "      <th>14083</th>\n",
              "      <td>8454</td>\n",
              "      <td>25</td>\n",
              "      <td>Mpesa</td>\n",
              "      <td>QVGTOO3KD2</td>\n",
              "      <td>09-01-18</td>\n",
              "      <td>7:00</td>\n",
              "      <td>Sirare</td>\n",
              "      <td>Nairobi</td>\n",
              "      <td>Bus</td>\n",
              "      <td>49</td>\n",
              "    </tr>\n",
              "    <tr>\n",
              "      <th>14136</th>\n",
              "      <td>8454</td>\n",
              "      <td>4B</td>\n",
              "      <td>Mpesa</td>\n",
              "      <td>RUECUSXM5D</td>\n",
              "      <td>09-01-18</td>\n",
              "      <td>7:00</td>\n",
              "      <td>Sirare</td>\n",
              "      <td>Nairobi</td>\n",
              "      <td>Bus</td>\n",
              "      <td>49</td>\n",
              "    </tr>\n",
              "    <tr>\n",
              "      <th>14137</th>\n",
              "      <td>8454</td>\n",
              "      <td>23B</td>\n",
              "      <td>Mpesa</td>\n",
              "      <td>BELLA76ECM</td>\n",
              "      <td>09-01-18</td>\n",
              "      <td>7:00</td>\n",
              "      <td>Sirare</td>\n",
              "      <td>Nairobi</td>\n",
              "      <td>Bus</td>\n",
              "      <td>49</td>\n",
              "    </tr>\n",
              "    <tr>\n",
              "      <th>14138</th>\n",
              "      <td>8454</td>\n",
              "      <td>25</td>\n",
              "      <td>Mpesa</td>\n",
              "      <td>BKBT1MKMML</td>\n",
              "      <td>09-01-18</td>\n",
              "      <td>7:00</td>\n",
              "      <td>Sirare</td>\n",
              "      <td>Nairobi</td>\n",
              "      <td>Bus</td>\n",
              "      <td>49</td>\n",
              "    </tr>\n",
              "  </tbody>\n",
              "</table>\n",
              "<p>50 rows × 10 columns</p>\n",
              "</div>"
            ],
            "text/plain": [
              "       ride_id seat_number payment_method  ... travel_to car_type max_capacity\n",
              "14020     8454         18A          Mpesa  ...   Nairobi      Bus           49\n",
              "14021     8454         17A          Mpesa  ...   Nairobi      Bus           49\n",
              "14022     8454         12B          Mpesa  ...   Nairobi      Bus           49\n",
              "14023     8454         12A          Mpesa  ...   Nairobi      Bus           49\n",
              "14026     8454         10A          Mpesa  ...   Nairobi      Bus           49\n",
              "...        ...         ...            ...  ...       ...      ...          ...\n",
              "14082     8454         23B          Mpesa  ...   Nairobi      Bus           49\n",
              "14083     8454          25          Mpesa  ...   Nairobi      Bus           49\n",
              "14136     8454          4B          Mpesa  ...   Nairobi      Bus           49\n",
              "14137     8454         23B          Mpesa  ...   Nairobi      Bus           49\n",
              "14138     8454          25          Mpesa  ...   Nairobi      Bus           49\n",
              "\n",
              "[50 rows x 10 columns]"
            ]
          },
          "metadata": {
            "tags": []
          },
          "execution_count": 19
        }
      ]
    },
    {
      "cell_type": "code",
      "metadata": {
        "colab": {
          "base_uri": "https://localhost:8080/",
          "height": 419
        },
        "id": "FqyTtAOImgcm",
        "outputId": "fe368d36-8d9b-475f-d37d-2be0bdbf9fa9"
      },
      "source": [
        "transport_df[transport_df['ride_id']==8090 ] "
      ],
      "execution_count": 20,
      "outputs": [
        {
          "output_type": "execute_result",
          "data": {
            "text/html": [
              "<div>\n",
              "<style scoped>\n",
              "    .dataframe tbody tr th:only-of-type {\n",
              "        vertical-align: middle;\n",
              "    }\n",
              "\n",
              "    .dataframe tbody tr th {\n",
              "        vertical-align: top;\n",
              "    }\n",
              "\n",
              "    .dataframe thead th {\n",
              "        text-align: right;\n",
              "    }\n",
              "</style>\n",
              "<table border=\"1\" class=\"dataframe\">\n",
              "  <thead>\n",
              "    <tr style=\"text-align: right;\">\n",
              "      <th></th>\n",
              "      <th>ride_id</th>\n",
              "      <th>seat_number</th>\n",
              "      <th>payment_method</th>\n",
              "      <th>payment_receipt</th>\n",
              "      <th>travel_date</th>\n",
              "      <th>travel_time</th>\n",
              "      <th>travel_from</th>\n",
              "      <th>travel_to</th>\n",
              "      <th>car_type</th>\n",
              "      <th>max_capacity</th>\n",
              "    </tr>\n",
              "  </thead>\n",
              "  <tbody>\n",
              "    <tr>\n",
              "      <th>11418</th>\n",
              "      <td>8090</td>\n",
              "      <td>1A</td>\n",
              "      <td>Mpesa</td>\n",
              "      <td>GU2VNYR9EK</td>\n",
              "      <td>27-12-17</td>\n",
              "      <td>7:08</td>\n",
              "      <td>Migori</td>\n",
              "      <td>Nairobi</td>\n",
              "      <td>Bus</td>\n",
              "      <td>49</td>\n",
              "    </tr>\n",
              "    <tr>\n",
              "      <th>11419</th>\n",
              "      <td>8090</td>\n",
              "      <td>2A</td>\n",
              "      <td>Mpesa</td>\n",
              "      <td>YSJU49YMFQ</td>\n",
              "      <td>27-12-17</td>\n",
              "      <td>7:08</td>\n",
              "      <td>Migori</td>\n",
              "      <td>Nairobi</td>\n",
              "      <td>Bus</td>\n",
              "      <td>49</td>\n",
              "    </tr>\n",
              "    <tr>\n",
              "      <th>11448</th>\n",
              "      <td>8090</td>\n",
              "      <td>24B</td>\n",
              "      <td>Mpesa</td>\n",
              "      <td>4DUHSCRZLT</td>\n",
              "      <td>27-12-17</td>\n",
              "      <td>7:08</td>\n",
              "      <td>Migori</td>\n",
              "      <td>Nairobi</td>\n",
              "      <td>Bus</td>\n",
              "      <td>49</td>\n",
              "    </tr>\n",
              "    <tr>\n",
              "      <th>11452</th>\n",
              "      <td>8090</td>\n",
              "      <td>16A</td>\n",
              "      <td>Mpesa</td>\n",
              "      <td>G1Z2ERJN1I</td>\n",
              "      <td>27-12-17</td>\n",
              "      <td>7:08</td>\n",
              "      <td>Migori</td>\n",
              "      <td>Nairobi</td>\n",
              "      <td>Bus</td>\n",
              "      <td>49</td>\n",
              "    </tr>\n",
              "    <tr>\n",
              "      <th>11458</th>\n",
              "      <td>8090</td>\n",
              "      <td>16B</td>\n",
              "      <td>Mpesa</td>\n",
              "      <td>ND7JR5AI0G</td>\n",
              "      <td>27-12-17</td>\n",
              "      <td>7:08</td>\n",
              "      <td>Migori</td>\n",
              "      <td>Nairobi</td>\n",
              "      <td>Bus</td>\n",
              "      <td>49</td>\n",
              "    </tr>\n",
              "    <tr>\n",
              "      <th>...</th>\n",
              "      <td>...</td>\n",
              "      <td>...</td>\n",
              "      <td>...</td>\n",
              "      <td>...</td>\n",
              "      <td>...</td>\n",
              "      <td>...</td>\n",
              "      <td>...</td>\n",
              "      <td>...</td>\n",
              "      <td>...</td>\n",
              "      <td>...</td>\n",
              "    </tr>\n",
              "    <tr>\n",
              "      <th>11624</th>\n",
              "      <td>8090</td>\n",
              "      <td>5B</td>\n",
              "      <td>Mpesa</td>\n",
              "      <td>IPX37IUQVN</td>\n",
              "      <td>27-12-17</td>\n",
              "      <td>7:08</td>\n",
              "      <td>Migori</td>\n",
              "      <td>Nairobi</td>\n",
              "      <td>Bus</td>\n",
              "      <td>49</td>\n",
              "    </tr>\n",
              "    <tr>\n",
              "      <th>11625</th>\n",
              "      <td>8090</td>\n",
              "      <td>6A</td>\n",
              "      <td>Mpesa</td>\n",
              "      <td>UXVBQB82UP</td>\n",
              "      <td>27-12-17</td>\n",
              "      <td>7:08</td>\n",
              "      <td>Migori</td>\n",
              "      <td>Nairobi</td>\n",
              "      <td>Bus</td>\n",
              "      <td>49</td>\n",
              "    </tr>\n",
              "    <tr>\n",
              "      <th>11626</th>\n",
              "      <td>8090</td>\n",
              "      <td>4A</td>\n",
              "      <td>Mpesa</td>\n",
              "      <td>XNMISHR19T</td>\n",
              "      <td>27-12-17</td>\n",
              "      <td>7:08</td>\n",
              "      <td>Migori</td>\n",
              "      <td>Nairobi</td>\n",
              "      <td>Bus</td>\n",
              "      <td>49</td>\n",
              "    </tr>\n",
              "    <tr>\n",
              "      <th>11627</th>\n",
              "      <td>8090</td>\n",
              "      <td>3A</td>\n",
              "      <td>Mpesa</td>\n",
              "      <td>ZA6YFKNTG0</td>\n",
              "      <td>27-12-17</td>\n",
              "      <td>7:08</td>\n",
              "      <td>Migori</td>\n",
              "      <td>Nairobi</td>\n",
              "      <td>Bus</td>\n",
              "      <td>49</td>\n",
              "    </tr>\n",
              "    <tr>\n",
              "      <th>11673</th>\n",
              "      <td>8090</td>\n",
              "      <td>18B</td>\n",
              "      <td>Mpesa</td>\n",
              "      <td>6UYQEXHZON</td>\n",
              "      <td>27-12-17</td>\n",
              "      <td>7:08</td>\n",
              "      <td>Migori</td>\n",
              "      <td>Nairobi</td>\n",
              "      <td>Bus</td>\n",
              "      <td>49</td>\n",
              "    </tr>\n",
              "  </tbody>\n",
              "</table>\n",
              "<p>49 rows × 10 columns</p>\n",
              "</div>"
            ],
            "text/plain": [
              "       ride_id seat_number payment_method  ... travel_to car_type max_capacity\n",
              "11418     8090          1A          Mpesa  ...   Nairobi      Bus           49\n",
              "11419     8090          2A          Mpesa  ...   Nairobi      Bus           49\n",
              "11448     8090         24B          Mpesa  ...   Nairobi      Bus           49\n",
              "11452     8090         16A          Mpesa  ...   Nairobi      Bus           49\n",
              "11458     8090         16B          Mpesa  ...   Nairobi      Bus           49\n",
              "...        ...         ...            ...  ...       ...      ...          ...\n",
              "11624     8090          5B          Mpesa  ...   Nairobi      Bus           49\n",
              "11625     8090          6A          Mpesa  ...   Nairobi      Bus           49\n",
              "11626     8090          4A          Mpesa  ...   Nairobi      Bus           49\n",
              "11627     8090          3A          Mpesa  ...   Nairobi      Bus           49\n",
              "11673     8090         18B          Mpesa  ...   Nairobi      Bus           49\n",
              "\n",
              "[49 rows x 10 columns]"
            ]
          },
          "metadata": {
            "tags": []
          },
          "execution_count": 20
        }
      ]
    },
    {
      "cell_type": "code",
      "metadata": {
        "colab": {
          "base_uri": "https://localhost:8080/"
        },
        "id": "sd2lEcc9sI8Y",
        "outputId": "ead52b6c-a520-40e2-bbfd-7a04a2aa1a8a"
      },
      "source": [
        "transport_df.columns"
      ],
      "execution_count": 13,
      "outputs": [
        {
          "output_type": "execute_result",
          "data": {
            "text/plain": [
              "Index(['ride_id', 'seat_number', 'payment_method', 'payment_receipt',\n",
              "       'travel_date', 'travel_time', 'travel_from', 'travel_to', 'car_type',\n",
              "       'max_capacity'],\n",
              "      dtype='object')"
            ]
          },
          "metadata": {
            "tags": []
          },
          "execution_count": 13
        }
      ]
    },
    {
      "cell_type": "code",
      "metadata": {
        "colab": {
          "base_uri": "https://localhost:8080/",
          "height": 1000
        },
        "id": "D3CA_N7TnanC",
        "outputId": "b9cd3e3b-6102-433b-e637-f8447adbbc24"
      },
      "source": [
        "count=0\r\n",
        "for element in ['ride_id', 'seat_number',\r\n",
        "       'travel_date', 'travel_time', 'travel_from', 'car_type',\r\n",
        "       'max_capacity']:\r\n",
        "  count=count+1\r\n",
        "  plt.figure(count)\r\n",
        "  plt.subplots(figsize=(20,15))\r\n",
        "  transport_df[element].value_counts().plot(kind='bar')\r\n",
        "  plt.xticks(rotation='vertical')\r\n",
        "  plt.title(element)"
      ],
      "execution_count": 14,
      "outputs": [
        {
          "output_type": "display_data",
          "data": {
            "text/plain": [
              "<Figure size 432x288 with 0 Axes>"
            ]
          },
          "metadata": {
            "tags": []
          }
        },
        {
          "output_type": "display_data",
          "data": {
            "image/png": "[encoded data removed]",
            "text/plain": [
              "<Figure size 1440x1080 with 1 Axes>"
            ]
          },
          "metadata": {
            "tags": [],
            "needs_background": "light"
          }
        },
        {
          "output_type": "display_data",
          "data": {
            "image/png": "[encoded data removed]",
            "text/plain": [
              "<Figure size 1440x1080 with 1 Axes>"
            ]
          },
          "metadata": {
            "tags": [],
            "needs_background": "light"
          }
        },
        {
          "output_type": "display_data",
          "data": {
            "image/png": "[encoded data removed]",
            "text/plain": [
              "<Figure size 1440x1080 with 1 Axes>"
            ]
          },
          "metadata": {
            "tags": [],
            "needs_background": "light"
          }
        },
        {
          "output_type": "display_data",
          "data": {
            "image/png": "[encoded data removed]",
            "text/plain": [
              "<Figure size 1440x1080 with 1 Axes>"
            ]
          },
          "metadata": {
            "tags": [],
            "needs_background": "light"
          }
        },
        {
          "output_type": "display_data",
          "data": {
            "image/png": "[encoded data removed]",
            "text/plain": [
              "<Figure size 1440x1080 with 1 Axes>"
            ]
          },
          "metadata": {
            "tags": [],
            "needs_background": "light"
          }
        },
        {
          "output_type": "display_data",
          "data": {
            "image/png": "[encoded data removed]",
            "text/plain": [
              "<Figure size 1440x1080 with 1 Axes>"
            ]
          },
          "metadata": {
            "tags": [],
            "needs_background": "light"
          }
        },
        {
          "output_type": "display_data",
          "data": {
            "image/png": "[encoded data removed]",
            "text/plain": [
              "<Figure size 1440x1080 with 1 Axes>"
            ]
          },
          "metadata": {
            "tags": [],
            "needs_background": "light"
          }
        }
      ]
    },
    {
      "cell_type": "code",
      "metadata": {
        "colab": {
          "base_uri": "https://localhost:8080/"
        },
        "id": "OQufxxd-wPmx",
        "outputId": "32333f7b-d715-4478-d854-045d7d215184"
      },
      "source": [
        "transport_df.info()"
      ],
      "execution_count": 15,
      "outputs": [
        {
          "output_type": "stream",
          "text": [
            "<class 'pandas.core.frame.DataFrame'>\n",
            "RangeIndex: 51645 entries, 0 to 51644\n",
            "Data columns (total 10 columns):\n",
            " #   Column           Non-Null Count  Dtype \n",
            "---  ------           --------------  ----- \n",
            " 0   ride_id          51645 non-null  int64 \n",
            " 1   seat_number      51645 non-null  object\n",
            " 2   payment_method   51645 non-null  object\n",
            " 3   payment_receipt  51645 non-null  object\n",
            " 4   travel_date      51645 non-null  object\n",
            " 5   travel_time      51645 non-null  object\n",
            " 6   travel_from      51645 non-null  object\n",
            " 7   travel_to        51645 non-null  object\n",
            " 8   car_type         51645 non-null  object\n",
            " 9   max_capacity     51645 non-null  int64 \n",
            "dtypes: int64(2), object(8)\n",
            "memory usage: 3.9+ MB\n"
          ],
          "name": "stdout"
        }
      ]
    },
    {
      "cell_type": "code",
      "metadata": {
        "id": "zgTnuJdcxzJ5"
      },
      "source": [
        "transport_df=transport_df.groupby('ride_id', as_index=False).agg(list)"
      ],
      "execution_count": 16,
      "outputs": []
    },
    {
      "cell_type": "code",
      "metadata": {
        "id": "XWWwWgX1yyJa"
      },
      "source": [
        "def len_of_mpesa(y):\r\n",
        "  \r\n",
        "   \r\n",
        "  return len(y)"
      ],
      "execution_count": 17,
      "outputs": []
    },
    {
      "cell_type": "code",
      "metadata": {
        "id": "iDS4FSLMyXEw"
      },
      "source": [
        "transport_df['ticket']=transport_df.apply(lambda x:len_of_mpesa(x['payment_method']),axis=1)"
      ],
      "execution_count": 18,
      "outputs": []
    },
    {
      "cell_type": "code",
      "metadata": {
        "colab": {
          "base_uri": "https://localhost:8080/",
          "height": 580
        },
        "id": "2eUhmUvxzpy6",
        "outputId": "04e5633f-4299-48a7-f278-34dcb833e7b5"
      },
      "source": [
        "transport_df.head(10)"
      ],
      "execution_count": 19,
      "outputs": [
        {
          "output_type": "execute_result",
          "data": {
            "text/html": [
              "<div>\n",
              "<style scoped>\n",
              "    .dataframe tbody tr th:only-of-type {\n",
              "        vertical-align: middle;\n",
              "    }\n",
              "\n",
              "    .dataframe tbody tr th {\n",
              "        vertical-align: top;\n",
              "    }\n",
              "\n",
              "    .dataframe thead th {\n",
              "        text-align: right;\n",
              "    }\n",
              "</style>\n",
              "<table border=\"1\" class=\"dataframe\">\n",
              "  <thead>\n",
              "    <tr style=\"text-align: right;\">\n",
              "      <th></th>\n",
              "      <th>ride_id</th>\n",
              "      <th>seat_number</th>\n",
              "      <th>payment_method</th>\n",
              "      <th>payment_receipt</th>\n",
              "      <th>travel_date</th>\n",
              "      <th>travel_time</th>\n",
              "      <th>travel_from</th>\n",
              "      <th>travel_to</th>\n",
              "      <th>car_type</th>\n",
              "      <th>max_capacity</th>\n",
              "      <th>ticket</th>\n",
              "    </tr>\n",
              "  </thead>\n",
              "  <tbody>\n",
              "    <tr>\n",
              "      <th>0</th>\n",
              "      <td>1442</td>\n",
              "      <td>[15A]</td>\n",
              "      <td>[Mpesa]</td>\n",
              "      <td>[UZUEHCBUSO]</td>\n",
              "      <td>[17-10-17]</td>\n",
              "      <td>[7:15]</td>\n",
              "      <td>[Migori]</td>\n",
              "      <td>[Nairobi]</td>\n",
              "      <td>[Bus]</td>\n",
              "      <td>[49]</td>\n",
              "      <td>1</td>\n",
              "    </tr>\n",
              "    <tr>\n",
              "      <th>1</th>\n",
              "      <td>5437</td>\n",
              "      <td>[14A]</td>\n",
              "      <td>[Mpesa]</td>\n",
              "      <td>[TIHLBUSGTE]</td>\n",
              "      <td>[19-11-17]</td>\n",
              "      <td>[7:12]</td>\n",
              "      <td>[Migori]</td>\n",
              "      <td>[Nairobi]</td>\n",
              "      <td>[Bus]</td>\n",
              "      <td>[49]</td>\n",
              "      <td>1</td>\n",
              "    </tr>\n",
              "    <tr>\n",
              "      <th>2</th>\n",
              "      <td>5710</td>\n",
              "      <td>[8B]</td>\n",
              "      <td>[Mpesa]</td>\n",
              "      <td>[EQX8Q5G19O]</td>\n",
              "      <td>[26-11-17]</td>\n",
              "      <td>[7:05]</td>\n",
              "      <td>[Keroka]</td>\n",
              "      <td>[Nairobi]</td>\n",
              "      <td>[Bus]</td>\n",
              "      <td>[49]</td>\n",
              "      <td>1</td>\n",
              "    </tr>\n",
              "    <tr>\n",
              "      <th>3</th>\n",
              "      <td>5777</td>\n",
              "      <td>[19A, 18B, 14A, 15B, 16B]</td>\n",
              "      <td>[Mpesa, Mpesa, Mpesa, Mpesa, Mpesa]</td>\n",
              "      <td>[SGP18CL0ME, B6PBDU30IZ, MZHGDGS6QZ, 7C7P3D5AJ...</td>\n",
              "      <td>[27-11-17, 27-11-17, 27-11-17, 27-11-17, 27-11...</td>\n",
              "      <td>[7:10, 7:10, 7:10, 7:10, 7:10]</td>\n",
              "      <td>[Homa Bay, Homa Bay, Homa Bay, Homa Bay, Homa ...</td>\n",
              "      <td>[Nairobi, Nairobi, Nairobi, Nairobi, Nairobi]</td>\n",
              "      <td>[Bus, Bus, Bus, Bus, Bus]</td>\n",
              "      <td>[49, 49, 49, 49, 49]</td>\n",
              "      <td>5</td>\n",
              "    </tr>\n",
              "    <tr>\n",
              "      <th>4</th>\n",
              "      <td>5778</td>\n",
              "      <td>[11A, 25, 21B, 3A, 23A, 9A, 24B, 23B, 13B, 22A...</td>\n",
              "      <td>[Mpesa, Mpesa, Mpesa, Mpesa, Mpesa, Mpesa, Mpe...</td>\n",
              "      <td>[BM97HFRGL9, MYVTYFNXDZ, TE1WYK1NYE, JDD4ZL64L...</td>\n",
              "      <td>[27-11-17, 27-11-17, 27-11-17, 27-11-17, 27-11...</td>\n",
              "      <td>[7:12, 7:12, 7:12, 7:12, 7:12, 7:12, 7:12, 7:1...</td>\n",
              "      <td>[Migori, Migori, Migori, Migori, Migori, Migor...</td>\n",
              "      <td>[Nairobi, Nairobi, Nairobi, Nairobi, Nairobi, ...</td>\n",
              "      <td>[Bus, Bus, Bus, Bus, Bus, Bus, Bus, Bus, Bus, ...</td>\n",
              "      <td>[49, 49, 49, 49, 49, 49, 49, 49, 49, 49, 49, 4...</td>\n",
              "      <td>31</td>\n",
              "    </tr>\n",
              "    <tr>\n",
              "      <th>5</th>\n",
              "      <td>5781</td>\n",
              "      <td>[22A, 18B, 17B, 18A, 19A, 20A, 21B, 22B, 25, 2...</td>\n",
              "      <td>[Mpesa, Mpesa, Mpesa, Mpesa, Mpesa, Mpesa, Mpe...</td>\n",
              "      <td>[VGG7Q3MVJX, YJ7JFHOGKA, 4JQOSC881A, KP4YUALFX...</td>\n",
              "      <td>[27-11-17, 27-11-17, 27-11-17, 27-11-17, 27-11...</td>\n",
              "      <td>[7:09, 7:09, 7:09, 7:09, 7:09, 7:09, 7:09, 7:0...</td>\n",
              "      <td>[Homa Bay, Homa Bay, Homa Bay, Homa Bay, Homa ...</td>\n",
              "      <td>[Nairobi, Nairobi, Nairobi, Nairobi, Nairobi, ...</td>\n",
              "      <td>[Bus, Bus, Bus, Bus, Bus, Bus, Bus, Bus, Bus, ...</td>\n",
              "      <td>[49, 49, 49, 49, 49, 49, 49, 49, 49, 49, 49, 4...</td>\n",
              "      <td>26</td>\n",
              "    </tr>\n",
              "    <tr>\n",
              "      <th>6</th>\n",
              "      <td>5784</td>\n",
              "      <td>[1X]</td>\n",
              "      <td>[Mpesa]</td>\n",
              "      <td>[3OPU23FHRB]</td>\n",
              "      <td>[20-04-18]</td>\n",
              "      <td>[5:10]</td>\n",
              "      <td>[Kisii]</td>\n",
              "      <td>[Nairobi]</td>\n",
              "      <td>[shuttle]</td>\n",
              "      <td>[11]</td>\n",
              "      <td>1</td>\n",
              "    </tr>\n",
              "    <tr>\n",
              "      <th>7</th>\n",
              "      <td>5789</td>\n",
              "      <td>[1X]</td>\n",
              "      <td>[Mpesa]</td>\n",
              "      <td>[BPRX4UMFFN]</td>\n",
              "      <td>[20-04-18]</td>\n",
              "      <td>[9:50]</td>\n",
              "      <td>[Kisii]</td>\n",
              "      <td>[Nairobi]</td>\n",
              "      <td>[shuttle]</td>\n",
              "      <td>[11]</td>\n",
              "      <td>1</td>\n",
              "    </tr>\n",
              "    <tr>\n",
              "      <th>8</th>\n",
              "      <td>5790</td>\n",
              "      <td>[1B, 4A]</td>\n",
              "      <td>[Mpesa, Mpesa]</td>\n",
              "      <td>[DC8ABRSXXK, F8VBKYCXPL]</td>\n",
              "      <td>[20-04-18, 20-04-18]</td>\n",
              "      <td>[7:06, 7:06]</td>\n",
              "      <td>[Kisii, Kisii]</td>\n",
              "      <td>[Nairobi, Nairobi]</td>\n",
              "      <td>[Bus, Bus]</td>\n",
              "      <td>[49, 49]</td>\n",
              "      <td>2</td>\n",
              "    </tr>\n",
              "    <tr>\n",
              "      <th>9</th>\n",
              "      <td>5791</td>\n",
              "      <td>[1]</td>\n",
              "      <td>[Mpesa]</td>\n",
              "      <td>[HGQURN0SZS]</td>\n",
              "      <td>[20-04-18]</td>\n",
              "      <td>[6:00]</td>\n",
              "      <td>[Kisii]</td>\n",
              "      <td>[Nairobi]</td>\n",
              "      <td>[shuttle]</td>\n",
              "      <td>[11]</td>\n",
              "      <td>1</td>\n",
              "    </tr>\n",
              "  </tbody>\n",
              "</table>\n",
              "</div>"
            ],
            "text/plain": [
              "   ride_id  ... ticket\n",
              "0     1442  ...      1\n",
              "1     5437  ...      1\n",
              "2     5710  ...      1\n",
              "3     5777  ...      5\n",
              "4     5778  ...     31\n",
              "5     5781  ...     26\n",
              "6     5784  ...      1\n",
              "7     5789  ...      1\n",
              "8     5790  ...      2\n",
              "9     5791  ...      1\n",
              "\n",
              "[10 rows x 11 columns]"
            ]
          },
          "metadata": {
            "tags": []
          },
          "execution_count": 19
        }
      ]
    },
    {
      "cell_type": "code",
      "metadata": {
        "id": "oXdsSFMQ2txx"
      },
      "source": [
        "def set_element(X):\r\n",
        "  a=X[0]\r\n",
        "  for elem in X:\r\n",
        "    if elem==a:\r\n",
        "      return elem\r\n",
        "    else:\r\n",
        "      return X\r\n"
      ],
      "execution_count": 20,
      "outputs": []
    },
    {
      "cell_type": "code",
      "metadata": {
        "id": "bNFp6yPH5XAZ"
      },
      "source": [
        "for element in ['payment_method','travel_from','travel_to','car_type','max_capacity','travel_date','travel_time']:\r\n",
        "\r\n",
        "  transport_df[element]=transport_df.apply(lambda x:set_element(x[element]),axis=1)"
      ],
      "execution_count": 21,
      "outputs": []
    },
    {
      "cell_type": "code",
      "metadata": {
        "colab": {
          "base_uri": "https://localhost:8080/",
          "height": 410
        },
        "id": "jpDEWCqe6sUp",
        "outputId": "c4d0adf1-3306-4ca4-88c5-07a67b59ce71"
      },
      "source": [
        "transport_df.head(10)"
      ],
      "execution_count": 22,
      "outputs": [
        {
          "output_type": "execute_result",
          "data": {
            "text/html": [
              "<div>\n",
              "<style scoped>\n",
              "    .dataframe tbody tr th:only-of-type {\n",
              "        vertical-align: middle;\n",
              "    }\n",
              "\n",
              "    .dataframe tbody tr th {\n",
              "        vertical-align: top;\n",
              "    }\n",
              "\n",
              "    .dataframe thead th {\n",
              "        text-align: right;\n",
              "    }\n",
              "</style>\n",
              "<table border=\"1\" class=\"dataframe\">\n",
              "  <thead>\n",
              "    <tr style=\"text-align: right;\">\n",
              "      <th></th>\n",
              "      <th>ride_id</th>\n",
              "      <th>seat_number</th>\n",
              "      <th>payment_method</th>\n",
              "      <th>payment_receipt</th>\n",
              "      <th>travel_date</th>\n",
              "      <th>travel_time</th>\n",
              "      <th>travel_from</th>\n",
              "      <th>travel_to</th>\n",
              "      <th>car_type</th>\n",
              "      <th>max_capacity</th>\n",
              "      <th>ticket</th>\n",
              "    </tr>\n",
              "  </thead>\n",
              "  <tbody>\n",
              "    <tr>\n",
              "      <th>0</th>\n",
              "      <td>1442</td>\n",
              "      <td>[15A]</td>\n",
              "      <td>Mpesa</td>\n",
              "      <td>[UZUEHCBUSO]</td>\n",
              "      <td>17-10-17</td>\n",
              "      <td>7:15</td>\n",
              "      <td>Migori</td>\n",
              "      <td>Nairobi</td>\n",
              "      <td>Bus</td>\n",
              "      <td>49</td>\n",
              "      <td>1</td>\n",
              "    </tr>\n",
              "    <tr>\n",
              "      <th>1</th>\n",
              "      <td>5437</td>\n",
              "      <td>[14A]</td>\n",
              "      <td>Mpesa</td>\n",
              "      <td>[TIHLBUSGTE]</td>\n",
              "      <td>19-11-17</td>\n",
              "      <td>7:12</td>\n",
              "      <td>Migori</td>\n",
              "      <td>Nairobi</td>\n",
              "      <td>Bus</td>\n",
              "      <td>49</td>\n",
              "      <td>1</td>\n",
              "    </tr>\n",
              "    <tr>\n",
              "      <th>2</th>\n",
              "      <td>5710</td>\n",
              "      <td>[8B]</td>\n",
              "      <td>Mpesa</td>\n",
              "      <td>[EQX8Q5G19O]</td>\n",
              "      <td>26-11-17</td>\n",
              "      <td>7:05</td>\n",
              "      <td>Keroka</td>\n",
              "      <td>Nairobi</td>\n",
              "      <td>Bus</td>\n",
              "      <td>49</td>\n",
              "      <td>1</td>\n",
              "    </tr>\n",
              "    <tr>\n",
              "      <th>3</th>\n",
              "      <td>5777</td>\n",
              "      <td>[19A, 18B, 14A, 15B, 16B]</td>\n",
              "      <td>Mpesa</td>\n",
              "      <td>[SGP18CL0ME, B6PBDU30IZ, MZHGDGS6QZ, 7C7P3D5AJ...</td>\n",
              "      <td>27-11-17</td>\n",
              "      <td>7:10</td>\n",
              "      <td>Homa Bay</td>\n",
              "      <td>Nairobi</td>\n",
              "      <td>Bus</td>\n",
              "      <td>49</td>\n",
              "      <td>5</td>\n",
              "    </tr>\n",
              "    <tr>\n",
              "      <th>4</th>\n",
              "      <td>5778</td>\n",
              "      <td>[11A, 25, 21B, 3A, 23A, 9A, 24B, 23B, 13B, 22A...</td>\n",
              "      <td>Mpesa</td>\n",
              "      <td>[BM97HFRGL9, MYVTYFNXDZ, TE1WYK1NYE, JDD4ZL64L...</td>\n",
              "      <td>27-11-17</td>\n",
              "      <td>7:12</td>\n",
              "      <td>Migori</td>\n",
              "      <td>Nairobi</td>\n",
              "      <td>Bus</td>\n",
              "      <td>49</td>\n",
              "      <td>31</td>\n",
              "    </tr>\n",
              "    <tr>\n",
              "      <th>5</th>\n",
              "      <td>5781</td>\n",
              "      <td>[22A, 18B, 17B, 18A, 19A, 20A, 21B, 22B, 25, 2...</td>\n",
              "      <td>Mpesa</td>\n",
              "      <td>[VGG7Q3MVJX, YJ7JFHOGKA, 4JQOSC881A, KP4YUALFX...</td>\n",
              "      <td>27-11-17</td>\n",
              "      <td>7:09</td>\n",
              "      <td>Homa Bay</td>\n",
              "      <td>Nairobi</td>\n",
              "      <td>Bus</td>\n",
              "      <td>49</td>\n",
              "      <td>26</td>\n",
              "    </tr>\n",
              "    <tr>\n",
              "      <th>6</th>\n",
              "      <td>5784</td>\n",
              "      <td>[1X]</td>\n",
              "      <td>Mpesa</td>\n",
              "      <td>[3OPU23FHRB]</td>\n",
              "      <td>20-04-18</td>\n",
              "      <td>5:10</td>\n",
              "      <td>Kisii</td>\n",
              "      <td>Nairobi</td>\n",
              "      <td>shuttle</td>\n",
              "      <td>11</td>\n",
              "      <td>1</td>\n",
              "    </tr>\n",
              "    <tr>\n",
              "      <th>7</th>\n",
              "      <td>5789</td>\n",
              "      <td>[1X]</td>\n",
              "      <td>Mpesa</td>\n",
              "      <td>[BPRX4UMFFN]</td>\n",
              "      <td>20-04-18</td>\n",
              "      <td>9:50</td>\n",
              "      <td>Kisii</td>\n",
              "      <td>Nairobi</td>\n",
              "      <td>shuttle</td>\n",
              "      <td>11</td>\n",
              "      <td>1</td>\n",
              "    </tr>\n",
              "    <tr>\n",
              "      <th>8</th>\n",
              "      <td>5790</td>\n",
              "      <td>[1B, 4A]</td>\n",
              "      <td>Mpesa</td>\n",
              "      <td>[DC8ABRSXXK, F8VBKYCXPL]</td>\n",
              "      <td>20-04-18</td>\n",
              "      <td>7:06</td>\n",
              "      <td>Kisii</td>\n",
              "      <td>Nairobi</td>\n",
              "      <td>Bus</td>\n",
              "      <td>49</td>\n",
              "      <td>2</td>\n",
              "    </tr>\n",
              "    <tr>\n",
              "      <th>9</th>\n",
              "      <td>5791</td>\n",
              "      <td>[1]</td>\n",
              "      <td>Mpesa</td>\n",
              "      <td>[HGQURN0SZS]</td>\n",
              "      <td>20-04-18</td>\n",
              "      <td>6:00</td>\n",
              "      <td>Kisii</td>\n",
              "      <td>Nairobi</td>\n",
              "      <td>shuttle</td>\n",
              "      <td>11</td>\n",
              "      <td>1</td>\n",
              "    </tr>\n",
              "  </tbody>\n",
              "</table>\n",
              "</div>"
            ],
            "text/plain": [
              "   ride_id  ... ticket\n",
              "0     1442  ...      1\n",
              "1     5437  ...      1\n",
              "2     5710  ...      1\n",
              "3     5777  ...      5\n",
              "4     5778  ...     31\n",
              "5     5781  ...     26\n",
              "6     5784  ...      1\n",
              "7     5789  ...      1\n",
              "8     5790  ...      2\n",
              "9     5791  ...      1\n",
              "\n",
              "[10 rows x 11 columns]"
            ]
          },
          "metadata": {
            "tags": []
          },
          "execution_count": 22
        }
      ]
    },
    {
      "cell_type": "code",
      "metadata": {
        "id": "eYa6mzCn8csH",
        "colab": {
          "base_uri": "https://localhost:8080/"
        },
        "outputId": "346eff77-b79a-431d-f76d-4039dd327d25"
      },
      "source": [
        "transport_df.info()\r\n"
      ],
      "execution_count": 23,
      "outputs": [
        {
          "output_type": "stream",
          "text": [
            "<class 'pandas.core.frame.DataFrame'>\n",
            "Int64Index: 6249 entries, 0 to 6248\n",
            "Data columns (total 11 columns):\n",
            " #   Column           Non-Null Count  Dtype \n",
            "---  ------           --------------  ----- \n",
            " 0   ride_id          6249 non-null   int64 \n",
            " 1   seat_number      6249 non-null   object\n",
            " 2   payment_method   6249 non-null   object\n",
            " 3   payment_receipt  6249 non-null   object\n",
            " 4   travel_date      6249 non-null   object\n",
            " 5   travel_time      6249 non-null   object\n",
            " 6   travel_from      6249 non-null   object\n",
            " 7   travel_to        6249 non-null   object\n",
            " 8   car_type         6249 non-null   object\n",
            " 9   max_capacity     6249 non-null   int64 \n",
            " 10  ticket           6249 non-null   int64 \n",
            "dtypes: int64(3), object(8)\n",
            "memory usage: 585.8+ KB\n"
          ],
          "name": "stdout"
        }
      ]
    },
    {
      "cell_type": "code",
      "metadata": {
        "colab": {
          "base_uri": "https://localhost:8080/",
          "height": 350
        },
        "id": "nxiuMaa2aBhC",
        "outputId": "e0baf365-670e-460c-f682-9709407ec0d3"
      },
      "source": [
        "sns.distplot(transport_df['ticket'])"
      ],
      "execution_count": 24,
      "outputs": [
        {
          "output_type": "stream",
          "text": [
            "/usr/local/lib/python3.6/dist-packages/seaborn/distributions.py:2551: FutureWarning: `distplot` is a deprecated function and will be removed in a future version. Please adapt your code to use either `displot` (a figure-level function with similar flexibility) or `histplot` (an axes-level function for histograms).\n",
            "  warnings.warn(msg, FutureWarning)\n"
          ],
          "name": "stderr"
        },
        {
          "output_type": "execute_result",
          "data": {
            "text/plain": [
              "<matplotlib.axes._subplots.AxesSubplot at 0x7f5686210208>"
            ]
          },
          "metadata": {
            "tags": []
          },
          "execution_count": 24
        },
        {
          "output_type": "display_data",
          "data": {
            "image/png": "[encoded data removed]",
            "text/plain": [
              "<Figure size 432x288 with 1 Axes>"
            ]
          },
          "metadata": {
            "tags": [],
            "needs_background": "light"
          }
        }
      ]
    },
    {
      "cell_type": "code",
      "metadata": {
        "id": "ghoTIymIzXae"
      },
      "source": [
        "transport_df['day'] = pd.DatetimeIndex(transport_df['travel_date']).day\r\n",
        "transport_df['year'] = pd.DatetimeIndex(transport_df['travel_date']).year\r\n",
        "transport_df['month'] = pd.DatetimeIndex(transport_df['travel_date']).month"
      ],
      "execution_count": 25,
      "outputs": []
    },
    {
      "cell_type": "code",
      "metadata": {
        "colab": {
          "base_uri": "https://localhost:8080/",
          "height": 674
        },
        "id": "1XTCEvgD1kJ2",
        "outputId": "9736d336-50bd-4435-f745-35427c8bd286"
      },
      "source": [
        "transport_df"
      ],
      "execution_count": 26,
      "outputs": [
        {
          "output_type": "execute_result",
          "data": {
            "text/html": [
              "<div>\n",
              "<style scoped>\n",
              "    .dataframe tbody tr th:only-of-type {\n",
              "        vertical-align: middle;\n",
              "    }\n",
              "\n",
              "    .dataframe tbody tr th {\n",
              "        vertical-align: top;\n",
              "    }\n",
              "\n",
              "    .dataframe thead th {\n",
              "        text-align: right;\n",
              "    }\n",
              "</style>\n",
              "<table border=\"1\" class=\"dataframe\">\n",
              "  <thead>\n",
              "    <tr style=\"text-align: right;\">\n",
              "      <th></th>\n",
              "      <th>ride_id</th>\n",
              "      <th>seat_number</th>\n",
              "      <th>payment_method</th>\n",
              "      <th>payment_receipt</th>\n",
              "      <th>travel_date</th>\n",
              "      <th>travel_time</th>\n",
              "      <th>travel_from</th>\n",
              "      <th>travel_to</th>\n",
              "      <th>car_type</th>\n",
              "      <th>max_capacity</th>\n",
              "      <th>ticket</th>\n",
              "      <th>day</th>\n",
              "      <th>year</th>\n",
              "      <th>month</th>\n",
              "    </tr>\n",
              "  </thead>\n",
              "  <tbody>\n",
              "    <tr>\n",
              "      <th>0</th>\n",
              "      <td>1442</td>\n",
              "      <td>[15A]</td>\n",
              "      <td>Mpesa</td>\n",
              "      <td>[UZUEHCBUSO]</td>\n",
              "      <td>17-10-17</td>\n",
              "      <td>7:15</td>\n",
              "      <td>Migori</td>\n",
              "      <td>Nairobi</td>\n",
              "      <td>Bus</td>\n",
              "      <td>49</td>\n",
              "      <td>1</td>\n",
              "      <td>17</td>\n",
              "      <td>2017</td>\n",
              "      <td>10</td>\n",
              "    </tr>\n",
              "    <tr>\n",
              "      <th>1</th>\n",
              "      <td>5437</td>\n",
              "      <td>[14A]</td>\n",
              "      <td>Mpesa</td>\n",
              "      <td>[TIHLBUSGTE]</td>\n",
              "      <td>19-11-17</td>\n",
              "      <td>7:12</td>\n",
              "      <td>Migori</td>\n",
              "      <td>Nairobi</td>\n",
              "      <td>Bus</td>\n",
              "      <td>49</td>\n",
              "      <td>1</td>\n",
              "      <td>19</td>\n",
              "      <td>2017</td>\n",
              "      <td>11</td>\n",
              "    </tr>\n",
              "    <tr>\n",
              "      <th>2</th>\n",
              "      <td>5710</td>\n",
              "      <td>[8B]</td>\n",
              "      <td>Mpesa</td>\n",
              "      <td>[EQX8Q5G19O]</td>\n",
              "      <td>26-11-17</td>\n",
              "      <td>7:05</td>\n",
              "      <td>Keroka</td>\n",
              "      <td>Nairobi</td>\n",
              "      <td>Bus</td>\n",
              "      <td>49</td>\n",
              "      <td>1</td>\n",
              "      <td>26</td>\n",
              "      <td>2017</td>\n",
              "      <td>11</td>\n",
              "    </tr>\n",
              "    <tr>\n",
              "      <th>3</th>\n",
              "      <td>5777</td>\n",
              "      <td>[19A, 18B, 14A, 15B, 16B]</td>\n",
              "      <td>Mpesa</td>\n",
              "      <td>[SGP18CL0ME, B6PBDU30IZ, MZHGDGS6QZ, 7C7P3D5AJ...</td>\n",
              "      <td>27-11-17</td>\n",
              "      <td>7:10</td>\n",
              "      <td>Homa Bay</td>\n",
              "      <td>Nairobi</td>\n",
              "      <td>Bus</td>\n",
              "      <td>49</td>\n",
              "      <td>5</td>\n",
              "      <td>27</td>\n",
              "      <td>2017</td>\n",
              "      <td>11</td>\n",
              "    </tr>\n",
              "    <tr>\n",
              "      <th>4</th>\n",
              "      <td>5778</td>\n",
              "      <td>[11A, 25, 21B, 3A, 23A, 9A, 24B, 23B, 13B, 22A...</td>\n",
              "      <td>Mpesa</td>\n",
              "      <td>[BM97HFRGL9, MYVTYFNXDZ, TE1WYK1NYE, JDD4ZL64L...</td>\n",
              "      <td>27-11-17</td>\n",
              "      <td>7:12</td>\n",
              "      <td>Migori</td>\n",
              "      <td>Nairobi</td>\n",
              "      <td>Bus</td>\n",
              "      <td>49</td>\n",
              "      <td>31</td>\n",
              "      <td>27</td>\n",
              "      <td>2017</td>\n",
              "      <td>11</td>\n",
              "    </tr>\n",
              "    <tr>\n",
              "      <th>...</th>\n",
              "      <td>...</td>\n",
              "      <td>...</td>\n",
              "      <td>...</td>\n",
              "      <td>...</td>\n",
              "      <td>...</td>\n",
              "      <td>...</td>\n",
              "      <td>...</td>\n",
              "      <td>...</td>\n",
              "      <td>...</td>\n",
              "      <td>...</td>\n",
              "      <td>...</td>\n",
              "      <td>...</td>\n",
              "      <td>...</td>\n",
              "      <td>...</td>\n",
              "    </tr>\n",
              "    <tr>\n",
              "      <th>6244</th>\n",
              "      <td>20113</td>\n",
              "      <td>[2, 4, 3, 8, 10, 9, 5, 1, 7]</td>\n",
              "      <td>Mpesa</td>\n",
              "      <td>[DJKW1CFQ6X, GFWRLGQMYF, OUWQXRWWNZ, M7ERODIZH...</td>\n",
              "      <td>07-02-18</td>\n",
              "      <td>7:00</td>\n",
              "      <td>Kisii</td>\n",
              "      <td>Nairobi</td>\n",
              "      <td>shuttle</td>\n",
              "      <td>11</td>\n",
              "      <td>9</td>\n",
              "      <td>2</td>\n",
              "      <td>2018</td>\n",
              "      <td>7</td>\n",
              "    </tr>\n",
              "    <tr>\n",
              "      <th>6245</th>\n",
              "      <td>20114</td>\n",
              "      <td>[19A, 1B, 8A, 7A]</td>\n",
              "      <td>Mpesa</td>\n",
              "      <td>[ADPXORAAJH, JC859BFPRI, 0IYLH4FXBF, SMFWRADOYR]</td>\n",
              "      <td>12-12-17</td>\n",
              "      <td>7:10</td>\n",
              "      <td>Kisii</td>\n",
              "      <td>Nairobi</td>\n",
              "      <td>Bus</td>\n",
              "      <td>49</td>\n",
              "      <td>4</td>\n",
              "      <td>12</td>\n",
              "      <td>2017</td>\n",
              "      <td>12</td>\n",
              "    </tr>\n",
              "    <tr>\n",
              "      <th>6246</th>\n",
              "      <td>20115</td>\n",
              "      <td>[3, 2, 10, 4, 1]</td>\n",
              "      <td>Mpesa</td>\n",
              "      <td>[S3VPRF5XX7, UBXFINPUSN, LLS9SJZO1E, LIRY6BWXQ...</td>\n",
              "      <td>06-12-17</td>\n",
              "      <td>7:10</td>\n",
              "      <td>Kisii</td>\n",
              "      <td>Nairobi</td>\n",
              "      <td>shuttle</td>\n",
              "      <td>11</td>\n",
              "      <td>5</td>\n",
              "      <td>12</td>\n",
              "      <td>2017</td>\n",
              "      <td>6</td>\n",
              "    </tr>\n",
              "    <tr>\n",
              "      <th>6247</th>\n",
              "      <td>20116</td>\n",
              "      <td>[6]</td>\n",
              "      <td>Mpesa</td>\n",
              "      <td>[EZHIPJIS2T]</td>\n",
              "      <td>27-11-17</td>\n",
              "      <td>7:10</td>\n",
              "      <td>Kisii</td>\n",
              "      <td>Nairobi</td>\n",
              "      <td>shuttle</td>\n",
              "      <td>11</td>\n",
              "      <td>1</td>\n",
              "      <td>27</td>\n",
              "      <td>2017</td>\n",
              "      <td>11</td>\n",
              "    </tr>\n",
              "    <tr>\n",
              "      <th>6248</th>\n",
              "      <td>20117</td>\n",
              "      <td>[1X]</td>\n",
              "      <td>Mpesa</td>\n",
              "      <td>[BUSNKXBGQS]</td>\n",
              "      <td>27-11-17</td>\n",
              "      <td>5:00</td>\n",
              "      <td>Kisii</td>\n",
              "      <td>Nairobi</td>\n",
              "      <td>Bus</td>\n",
              "      <td>49</td>\n",
              "      <td>1</td>\n",
              "      <td>27</td>\n",
              "      <td>2017</td>\n",
              "      <td>11</td>\n",
              "    </tr>\n",
              "  </tbody>\n",
              "</table>\n",
              "<p>6249 rows × 14 columns</p>\n",
              "</div>"
            ],
            "text/plain": [
              "      ride_id                                        seat_number  ...  year month\n",
              "0        1442                                              [15A]  ...  2017    10\n",
              "1        5437                                              [14A]  ...  2017    11\n",
              "2        5710                                               [8B]  ...  2017    11\n",
              "3        5777                          [19A, 18B, 14A, 15B, 16B]  ...  2017    11\n",
              "4        5778  [11A, 25, 21B, 3A, 23A, 9A, 24B, 23B, 13B, 22A...  ...  2017    11\n",
              "...       ...                                                ...  ...   ...   ...\n",
              "6244    20113                       [2, 4, 3, 8, 10, 9, 5, 1, 7]  ...  2018     7\n",
              "6245    20114                                  [19A, 1B, 8A, 7A]  ...  2017    12\n",
              "6246    20115                                   [3, 2, 10, 4, 1]  ...  2017     6\n",
              "6247    20116                                                [6]  ...  2017    11\n",
              "6248    20117                                               [1X]  ...  2017    11\n",
              "\n",
              "[6249 rows x 14 columns]"
            ]
          },
          "metadata": {
            "tags": []
          },
          "execution_count": 26
        }
      ]
    },
    {
      "cell_type": "code",
      "metadata": {
        "colab": {
          "base_uri": "https://localhost:8080/",
          "height": 279
        },
        "id": "nRmvJSoWquMt",
        "outputId": "6214adcd-966b-44dd-d462-467be113db27"
      },
      "source": [
        "ax1 = transport_df.plot.scatter(y='ticket',\r\n",
        "                      x='month',\r\n",
        "                       c='DarkBlue')"
      ],
      "execution_count": 42,
      "outputs": [
        {
          "output_type": "display_data",
          "data": {
            "image/png": "[encoded data removed]",
            "text/plain": [
              "<Figure size 432x288 with 1 Axes>"
            ]
          },
          "metadata": {
            "tags": [],
            "needs_background": "light"
          }
        }
      ]
    },
    {
      "cell_type": "code",
      "metadata": {
        "colab": {
          "base_uri": "https://localhost:8080/",
          "height": 279
        },
        "id": "ZrlQONav2TA_",
        "outputId": "b6b78d03-9144-4b50-f0e3-dadc82e56804"
      },
      "source": [
        "ax2 = transport_df.plot.scatter(y='ticket',\r\n",
        "                      x='day',\r\n",
        "                       c='DarkBlue')"
      ],
      "execution_count": 27,
      "outputs": [
        {
          "output_type": "display_data",
          "data": {
            "image/png": "[encoded data removed]",
            "text/plain": [
              "<Figure size 432x288 with 1 Axes>"
            ]
          },
          "metadata": {
            "tags": [],
            "needs_background": "light"
          }
        }
      ]
    },
    {
      "cell_type": "code",
      "metadata": {
        "colab": {
          "base_uri": "https://localhost:8080/",
          "height": 279
        },
        "id": "FcYyjc02zWtd",
        "outputId": "81ce7a93-73d4-4217-d436-9e7724a27d9d"
      },
      "source": [
        "ax2 = transport_df.plot.scatter(y='ticket',\r\n",
        "                      x='year',\r\n",
        "                       c='DarkBlue')"
      ],
      "execution_count": 28,
      "outputs": [
        {
          "output_type": "display_data",
          "data": {
            "image/png": "[encoded data removed]",
            "text/plain": [
              "<Figure size 432x288 with 1 Axes>"
            ]
          },
          "metadata": {
            "tags": [],
            "needs_background": "light"
          }
        }
      ]
    },
    {
      "cell_type": "code",
      "metadata": {
        "colab": {
          "base_uri": "https://localhost:8080/",
          "height": 419
        },
        "id": "knHOxrYX0lTA",
        "outputId": "4bb2ffb2-e0ff-477d-d857-c48233d7415e"
      },
      "source": [
        "transport_df.drop(columns=['payment_receipt','payment_method','seat_number','travel_to'])"
      ],
      "execution_count": 29,
      "outputs": [
        {
          "output_type": "execute_result",
          "data": {
            "text/html": [
              "<div>\n",
              "<style scoped>\n",
              "    .dataframe tbody tr th:only-of-type {\n",
              "        vertical-align: middle;\n",
              "    }\n",
              "\n",
              "    .dataframe tbody tr th {\n",
              "        vertical-align: top;\n",
              "    }\n",
              "\n",
              "    .dataframe thead th {\n",
              "        text-align: right;\n",
              "    }\n",
              "</style>\n",
              "<table border=\"1\" class=\"dataframe\">\n",
              "  <thead>\n",
              "    <tr style=\"text-align: right;\">\n",
              "      <th></th>\n",
              "      <th>ride_id</th>\n",
              "      <th>travel_date</th>\n",
              "      <th>travel_time</th>\n",
              "      <th>travel_from</th>\n",
              "      <th>car_type</th>\n",
              "      <th>max_capacity</th>\n",
              "      <th>ticket</th>\n",
              "      <th>day</th>\n",
              "      <th>year</th>\n",
              "      <th>month</th>\n",
              "    </tr>\n",
              "  </thead>\n",
              "  <tbody>\n",
              "    <tr>\n",
              "      <th>0</th>\n",
              "      <td>1442</td>\n",
              "      <td>17-10-17</td>\n",
              "      <td>7:15</td>\n",
              "      <td>Migori</td>\n",
              "      <td>Bus</td>\n",
              "      <td>49</td>\n",
              "      <td>1</td>\n",
              "      <td>17</td>\n",
              "      <td>2017</td>\n",
              "      <td>10</td>\n",
              "    </tr>\n",
              "    <tr>\n",
              "      <th>1</th>\n",
              "      <td>5437</td>\n",
              "      <td>19-11-17</td>\n",
              "      <td>7:12</td>\n",
              "      <td>Migori</td>\n",
              "      <td>Bus</td>\n",
              "      <td>49</td>\n",
              "      <td>1</td>\n",
              "      <td>19</td>\n",
              "      <td>2017</td>\n",
              "      <td>11</td>\n",
              "    </tr>\n",
              "    <tr>\n",
              "      <th>2</th>\n",
              "      <td>5710</td>\n",
              "      <td>26-11-17</td>\n",
              "      <td>7:05</td>\n",
              "      <td>Keroka</td>\n",
              "      <td>Bus</td>\n",
              "      <td>49</td>\n",
              "      <td>1</td>\n",
              "      <td>26</td>\n",
              "      <td>2017</td>\n",
              "      <td>11</td>\n",
              "    </tr>\n",
              "    <tr>\n",
              "      <th>3</th>\n",
              "      <td>5777</td>\n",
              "      <td>27-11-17</td>\n",
              "      <td>7:10</td>\n",
              "      <td>Homa Bay</td>\n",
              "      <td>Bus</td>\n",
              "      <td>49</td>\n",
              "      <td>5</td>\n",
              "      <td>27</td>\n",
              "      <td>2017</td>\n",
              "      <td>11</td>\n",
              "    </tr>\n",
              "    <tr>\n",
              "      <th>4</th>\n",
              "      <td>5778</td>\n",
              "      <td>27-11-17</td>\n",
              "      <td>7:12</td>\n",
              "      <td>Migori</td>\n",
              "      <td>Bus</td>\n",
              "      <td>49</td>\n",
              "      <td>31</td>\n",
              "      <td>27</td>\n",
              "      <td>2017</td>\n",
              "      <td>11</td>\n",
              "    </tr>\n",
              "    <tr>\n",
              "      <th>...</th>\n",
              "      <td>...</td>\n",
              "      <td>...</td>\n",
              "      <td>...</td>\n",
              "      <td>...</td>\n",
              "      <td>...</td>\n",
              "      <td>...</td>\n",
              "      <td>...</td>\n",
              "      <td>...</td>\n",
              "      <td>...</td>\n",
              "      <td>...</td>\n",
              "    </tr>\n",
              "    <tr>\n",
              "      <th>6244</th>\n",
              "      <td>20113</td>\n",
              "      <td>07-02-18</td>\n",
              "      <td>7:00</td>\n",
              "      <td>Kisii</td>\n",
              "      <td>shuttle</td>\n",
              "      <td>11</td>\n",
              "      <td>9</td>\n",
              "      <td>2</td>\n",
              "      <td>2018</td>\n",
              "      <td>7</td>\n",
              "    </tr>\n",
              "    <tr>\n",
              "      <th>6245</th>\n",
              "      <td>20114</td>\n",
              "      <td>12-12-17</td>\n",
              "      <td>7:10</td>\n",
              "      <td>Kisii</td>\n",
              "      <td>Bus</td>\n",
              "      <td>49</td>\n",
              "      <td>4</td>\n",
              "      <td>12</td>\n",
              "      <td>2017</td>\n",
              "      <td>12</td>\n",
              "    </tr>\n",
              "    <tr>\n",
              "      <th>6246</th>\n",
              "      <td>20115</td>\n",
              "      <td>06-12-17</td>\n",
              "      <td>7:10</td>\n",
              "      <td>Kisii</td>\n",
              "      <td>shuttle</td>\n",
              "      <td>11</td>\n",
              "      <td>5</td>\n",
              "      <td>12</td>\n",
              "      <td>2017</td>\n",
              "      <td>6</td>\n",
              "    </tr>\n",
              "    <tr>\n",
              "      <th>6247</th>\n",
              "      <td>20116</td>\n",
              "      <td>27-11-17</td>\n",
              "      <td>7:10</td>\n",
              "      <td>Kisii</td>\n",
              "      <td>shuttle</td>\n",
              "      <td>11</td>\n",
              "      <td>1</td>\n",
              "      <td>27</td>\n",
              "      <td>2017</td>\n",
              "      <td>11</td>\n",
              "    </tr>\n",
              "    <tr>\n",
              "      <th>6248</th>\n",
              "      <td>20117</td>\n",
              "      <td>27-11-17</td>\n",
              "      <td>5:00</td>\n",
              "      <td>Kisii</td>\n",
              "      <td>Bus</td>\n",
              "      <td>49</td>\n",
              "      <td>1</td>\n",
              "      <td>27</td>\n",
              "      <td>2017</td>\n",
              "      <td>11</td>\n",
              "    </tr>\n",
              "  </tbody>\n",
              "</table>\n",
              "<p>6249 rows × 10 columns</p>\n",
              "</div>"
            ],
            "text/plain": [
              "      ride_id travel_date travel_time travel_from  ... ticket  day  year  month\n",
              "0        1442    17-10-17        7:15      Migori  ...      1   17  2017     10\n",
              "1        5437    19-11-17        7:12      Migori  ...      1   19  2017     11\n",
              "2        5710    26-11-17        7:05      Keroka  ...      1   26  2017     11\n",
              "3        5777    27-11-17        7:10    Homa Bay  ...      5   27  2017     11\n",
              "4        5778    27-11-17        7:12      Migori  ...     31   27  2017     11\n",
              "...       ...         ...         ...         ...  ...    ...  ...   ...    ...\n",
              "6244    20113    07-02-18        7:00       Kisii  ...      9    2  2018      7\n",
              "6245    20114    12-12-17        7:10       Kisii  ...      4   12  2017     12\n",
              "6246    20115    06-12-17        7:10       Kisii  ...      5   12  2017      6\n",
              "6247    20116    27-11-17        7:10       Kisii  ...      1   27  2017     11\n",
              "6248    20117    27-11-17        5:00       Kisii  ...      1   27  2017     11\n",
              "\n",
              "[6249 rows x 10 columns]"
            ]
          },
          "metadata": {
            "tags": []
          },
          "execution_count": 29
        }
      ]
    },
    {
      "cell_type": "code",
      "metadata": {
        "colab": {
          "base_uri": "https://localhost:8080/",
          "height": 282
        },
        "id": "2ZvdcxT71DfW",
        "outputId": "4894e4f5-b35c-4922-ff7c-34e6a312c26f"
      },
      "source": [
        "df['new'] = np.where(transport_df.travel_time.time < datetime.time(7, 15, 0), 0, 'On-time')"
      ],
      "execution_count": 35,
      "outputs": [
        {
          "output_type": "error",
          "ename": "AttributeError",
          "evalue": "ignored",
          "traceback": [
            "\u001b[0;31m---------------------------------------------------------------------------\u001b[0m",
            "\u001b[0;31mAttributeError\u001b[0m                            Traceback (most recent call last)",
            "\u001b[0;32m<ipython-input-35-55b3bfc7c715>\u001b[0m in \u001b[0;36m<module>\u001b[0;34m()\u001b[0m\n\u001b[0;32m----> 1\u001b[0;31m \u001b[0mdf\u001b[0m\u001b[0;34m[\u001b[0m\u001b[0;34m'new'\u001b[0m\u001b[0;34m]\u001b[0m \u001b[0;34m=\u001b[0m \u001b[0mnp\u001b[0m\u001b[0;34m.\u001b[0m\u001b[0mwhere\u001b[0m\u001b[0;34m(\u001b[0m\u001b[0mtransport_df\u001b[0m\u001b[0;34m.\u001b[0m\u001b[0mtravel_time\u001b[0m\u001b[0;34m.\u001b[0m\u001b[0mtime\u001b[0m \u001b[0;34m<\u001b[0m \u001b[0mdatetime\u001b[0m\u001b[0;34m.\u001b[0m\u001b[0mtime\u001b[0m\u001b[0;34m(\u001b[0m\u001b[0;36m7\u001b[0m\u001b[0;34m,\u001b[0m \u001b[0;36m15\u001b[0m\u001b[0;34m,\u001b[0m \u001b[0;36m0\u001b[0m\u001b[0;34m)\u001b[0m\u001b[0;34m,\u001b[0m \u001b[0;36m0\u001b[0m\u001b[0;34m,\u001b[0m \u001b[0;34m'On-time'\u001b[0m\u001b[0;34m)\u001b[0m\u001b[0;34m\u001b[0m\u001b[0;34m\u001b[0m\u001b[0m\n\u001b[0m",
            "\u001b[0;32m/usr/local/lib/python3.6/dist-packages/pandas/core/generic.py\u001b[0m in \u001b[0;36m__getattr__\u001b[0;34m(self, name)\u001b[0m\n\u001b[1;32m   5139\u001b[0m             \u001b[0;32mif\u001b[0m \u001b[0mself\u001b[0m\u001b[0;34m.\u001b[0m\u001b[0m_info_axis\u001b[0m\u001b[0;34m.\u001b[0m\u001b[0m_can_hold_identifiers_and_holds_name\u001b[0m\u001b[0;34m(\u001b[0m\u001b[0mname\u001b[0m\u001b[0;34m)\u001b[0m\u001b[0;34m:\u001b[0m\u001b[0;34m\u001b[0m\u001b[0;34m\u001b[0m\u001b[0m\n\u001b[1;32m   5140\u001b[0m                 \u001b[0;32mreturn\u001b[0m \u001b[0mself\u001b[0m\u001b[0;34m[\u001b[0m\u001b[0mname\u001b[0m\u001b[0;34m]\u001b[0m\u001b[0;34m\u001b[0m\u001b[0;34m\u001b[0m\u001b[0m\n\u001b[0;32m-> 5141\u001b[0;31m             \u001b[0;32mreturn\u001b[0m \u001b[0mobject\u001b[0m\u001b[0;34m.\u001b[0m\u001b[0m__getattribute__\u001b[0m\u001b[0;34m(\u001b[0m\u001b[0mself\u001b[0m\u001b[0;34m,\u001b[0m \u001b[0mname\u001b[0m\u001b[0;34m)\u001b[0m\u001b[0;34m\u001b[0m\u001b[0;34m\u001b[0m\u001b[0m\n\u001b[0m\u001b[1;32m   5142\u001b[0m \u001b[0;34m\u001b[0m\u001b[0m\n\u001b[1;32m   5143\u001b[0m     \u001b[0;32mdef\u001b[0m \u001b[0m__setattr__\u001b[0m\u001b[0;34m(\u001b[0m\u001b[0mself\u001b[0m\u001b[0;34m,\u001b[0m \u001b[0mname\u001b[0m\u001b[0;34m:\u001b[0m \u001b[0mstr\u001b[0m\u001b[0;34m,\u001b[0m \u001b[0mvalue\u001b[0m\u001b[0;34m)\u001b[0m \u001b[0;34m->\u001b[0m \u001b[0;32mNone\u001b[0m\u001b[0;34m:\u001b[0m\u001b[0;34m\u001b[0m\u001b[0;34m\u001b[0m\u001b[0m\n",
            "\u001b[0;31mAttributeError\u001b[0m: 'Series' object has no attribute 'time'"
          ]
        }
      ]
    },
    {
      "cell_type": "code",
      "metadata": {
        "colab": {
          "base_uri": "https://localhost:8080/",
          "height": 899
        },
        "id": "fH49_vdv5gG0",
        "outputId": "4ee19cc2-c54b-433b-9491-e7488b81a723"
      },
      "source": [
        "plt.subplots(figsize=(20,15))\r\n",
        "transport_df['month'].value_counts().plot(kind='bar')\r\n",
        "plt.xticks(rotation='vertical')\r\n",
        "plt.title('month')"
      ],
      "execution_count": 37,
      "outputs": [
        {
          "output_type": "execute_result",
          "data": {
            "text/plain": [
              "Text(0.5, 1.0, 'month')"
            ]
          },
          "metadata": {
            "tags": []
          },
          "execution_count": 37
        },
        {
          "output_type": "display_data",
          "data": {
            "image/png": "[encoded data removed]",
            "text/plain": [
              "<Figure size 1440x1080 with 1 Axes>"
            ]
          },
          "metadata": {
            "tags": [],
            "needs_background": "light"
          }
        }
      ]
    },
    {
      "cell_type": "code",
      "metadata": {
        "colab": {
          "base_uri": "https://localhost:8080/",
          "height": 899
        },
        "id": "QAf3yv5G6AJg",
        "outputId": "5812dc1f-b1c7-4817-f8e1-a58d09b78de2"
      },
      "source": [
        "plt.subplots(figsize=(20,15))\r\n",
        "transport_df['day'].value_counts().plot(kind='bar')\r\n",
        "plt.xticks(rotation='vertical')\r\n",
        "plt.title('day')"
      ],
      "execution_count": 38,
      "outputs": [
        {
          "output_type": "execute_result",
          "data": {
            "text/plain": [
              "Text(0.5, 1.0, 'day')"
            ]
          },
          "metadata": {
            "tags": []
          },
          "execution_count": 38
        },
        {
          "output_type": "display_data",
          "data": {
            "image/png": "[encoded data removed]",
            "text/plain": [
              "<Figure size 1440x1080 with 1 Axes>"
            ]
          },
          "metadata": {
            "tags": [],
            "needs_background": "light"
          }
        }
      ]
    },
    {
      "cell_type": "code",
      "metadata": {
        "id": "orAyK7WQ70Ix"
      },
      "source": [
        "plt.subplots(figsize=(20,15))\r\n",
        "transport_df['day'].value_counts().plot(kind='bar')\r\n",
        "plt.xticks(rotation='vertical')\r\n",
        "plt.title('day')"
      ],
      "execution_count": null,
      "outputs": []
    },
    {
      "cell_type": "code",
      "metadata": {
        "colab": {
          "base_uri": "https://localhost:8080/",
          "height": 280
        },
        "id": "_xMouBkV8Avm",
        "outputId": "5cf8ac7f-ad81-4bfc-e737-490a15f1507d"
      },
      "source": [
        "ax2 = transport_df.plot.scatter(y='ticket',\r\n",
        "                      x='max_capacity',\r\n",
        "                       c='DarkBlue')"
      ],
      "execution_count": 39,
      "outputs": [
        {
          "output_type": "display_data",
          "data": {
            "image/png": "[encoded data removed]",
            "text/plain": [
              "<Figure size 432x288 with 1 Axes>"
            ]
          },
          "metadata": {
            "tags": [],
            "needs_background": "light"
          }
        }
      ]
    },
    {
      "cell_type": "code",
      "metadata": {
        "id": "M7QENXZU4GR9"
      },
      "source": [
        "ts.between_time('0:15', '0:45')"
      ],
      "execution_count": null,
      "outputs": []
    }
  ]
}